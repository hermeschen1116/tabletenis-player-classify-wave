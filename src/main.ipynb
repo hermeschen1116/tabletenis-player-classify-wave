{
 "cells": [
  {
   "cell_type": "code",
   "execution_count": null,
   "id": "initial_id",
   "metadata": {
    "collapsed": true
   },
   "outputs": [],
   "source": [
    "import multiprocessing\n",
    "\n",
    "import polars\n",
    "from datasets import Dataset"
   ]
  },
  {
   "cell_type": "code",
   "execution_count": null,
   "id": "66802435ad3900d2",
   "metadata": {},
   "outputs": [],
   "source": [
    "num_workers: int = multiprocessing.cpu_count()"
   ]
  },
  {
   "cell_type": "code",
   "execution_count": null,
   "id": "3773bf8a5f856a65",
   "metadata": {},
   "outputs": [],
   "source": [
    "train_info_df = polars.read_csv(\n",
    "\t\"../../data/train_info.csv\", n_threads=num_workers, low_memory=True, rechunk=True, use_pyarrow=True\n",
    ")\n",
    "train_data_df = polars.read_csv(\n",
    "\t\"../../data/train_data.csv\", n_threads=num_workers, low_memory=True, rechunk=True, use_pyarrow=True\n",
    ")"
   ]
  },
  {
   "cell_type": "code",
   "execution_count": null,
   "id": "7cbb24852b24aded",
   "metadata": {},
   "outputs": [],
   "source": [
    "features = [\"Ax\", \"Ay\", \"Az\", \"Gx\", \"Gy\", \"Gz\"]"
   ]
  },
  {
   "cell_type": "code",
   "execution_count": null,
   "id": "c5378776c56356c",
   "metadata": {},
   "outputs": [],
   "source": [
    "train_data_df = (\n",
    "\ttrain_data_df.sort(\"player_ID\", \"data_id\", \"time_order\")\n",
    "\t.set_sorted(\"time_order\")\n",
    "\t.group_by(\"player_ID\", maintain_order=True)\n",
    "\t.agg([polars.mean(features).name.suffix(\"_mean\"), polars.std(features).name.suffix(\"_std\")])\n",
    "\t.join(train_data_df, on=\"player_ID\")\n",
    "\t.with_columns(((polars.col(col) - polars.col(f\"{col}_mean\")) / polars.col(f\"{col}_std\")) for col in features)\n",
    "\t.drop([\"^[AG][xyz]_mean$\", \"^[AG][xyz]_std$\"])\n",
    ")"
   ]
  },
  {
   "cell_type": "code",
   "execution_count": null,
   "id": "8f64c1a1372243be",
   "metadata": {},
   "outputs": [],
   "source": [
    "train_data_df = train_data_df.rolling(\n",
    "\tindex_column=\"time_order\", group_by=[\"player_ID\", \"data_id\"], offset=\"0i\", period=\"42i\", closed=\"both\"\n",
    ").agg(polars.all())"
   ]
  },
  {
   "cell_type": "code",
   "execution_count": null,
   "id": "ffc27eda4aeb8640",
   "metadata": {},
   "outputs": [],
   "source": [
    "train_df = train_data_df.join(train_info_df, on=\"data_id\").drop([\"player_ID\", \"data_id\", \"time_order\"])"
   ]
  },
  {
   "cell_type": "code",
   "execution_count": null,
   "id": "ea7e50edfe59f939",
   "metadata": {},
   "outputs": [],
   "source": [
    "train_dataset = Dataset(train_df.to_arrow())"
   ]
  },
  {
   "cell_type": "code",
   "execution_count": null,
   "id": "86bb24f4e2d67d94",
   "metadata": {},
   "outputs": [],
   "source": [
    "train_dataset"
   ]
  },
  {
   "cell_type": "code",
   "execution_count": null,
   "id": "9fa8a8915e5c3f9b",
   "metadata": {},
   "outputs": [],
   "source": [
    "test_df = polars.read_csv(\n",
    "\t\"../../data/test_data.csv\", n_threads=num_workers, low_memory=True, rechunk=True, use_pyarrow=True\n",
    ")\n",
    "test_df = test_df.sort(\"data_id\", \"time_order\").set_sorted(\"time_order\")"
   ]
  },
  {
   "cell_type": "code",
   "execution_count": null,
   "id": "bf5fdff21843ad5c",
   "metadata": {},
   "outputs": [],
   "source": [
    "test_df = test_df.with_columns((polars.col(features) - polars.mean(features)) / polars.std(features))"
   ]
  },
  {
   "cell_type": "code",
   "execution_count": null,
   "id": "31b6e3688ddea33e",
   "metadata": {},
   "outputs": [],
   "source": [
    "test_df = test_df.rolling(index_column=\"time_order\", group_by=\"data_id\", offset=\"0i\", period=\"42i\", closed=\"both\").agg(\n",
    "\tpolars.all()\n",
    ")"
   ]
  },
  {
   "cell_type": "code",
   "execution_count": null,
   "id": "e424e1c990fb6a24",
   "metadata": {},
   "outputs": [],
   "source": [
    "test_df = test_df.drop(\"time_order\")"
   ]
  },
  {
   "cell_type": "code",
   "execution_count": null,
   "id": "2f56bce56f5f9d96",
   "metadata": {},
   "outputs": [],
   "source": [
    "test_dataset = Dataset(test_df.to_arrow())"
   ]
  },
  {
   "cell_type": "code",
   "execution_count": null,
   "id": "4994571226dd0432",
   "metadata": {},
   "outputs": [],
   "source": [
    "test_dataset"
   ]
  },
  {
   "cell_type": "code",
   "execution_count": null,
   "id": "c4edb35cb21da432",
   "metadata": {},
   "outputs": [],
   "source": []
  }
 ],
 "metadata": {
  "kernelspec": {
   "display_name": "Python 3",
   "language": "python",
   "name": "python3"
  },
  "language_info": {
   "codemirror_mode": {
    "name": "ipython",
    "version": 2
   },
   "file_extension": ".py",
   "mimetype": "text/x-python",
   "name": "python",
   "nbconvert_exporter": "python",
   "pygments_lexer": "ipython2",
   "version": "2.7.6"
  }
 },
 "nbformat": 4,
 "nbformat_minor": 5
}
