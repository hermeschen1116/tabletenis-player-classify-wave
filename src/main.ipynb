{
 "cells": [
  {
   "cell_type": "code",
   "id": "initial_id",
   "metadata": {
    "collapsed": true,
    "ExecuteTime": {
     "end_time": "2024-12-02T00:16:20.232169Z",
     "start_time": "2024-12-02T00:16:19.254498Z"
    }
   },
   "source": [
    "import multiprocessing\n",
    "\n",
    "import polars\n",
    "from datasets import Dataset"
   ],
   "outputs": [
    {
     "name": "stderr",
     "output_type": "stream",
     "text": [
      "/home/hermeschen/Repo/tabletenis-player-classify-wave/.venv/lib/python3.12/site-packages/tqdm/auto.py:21: TqdmWarning: IProgress not found. Please update jupyter and ipywidgets. See https://ipywidgets.readthedocs.io/en/stable/user_install.html\n",
      "  from .autonotebook import tqdm as notebook_tqdm\n"
     ]
    }
   ],
   "execution_count": 1
  },
  {
   "cell_type": "code",
   "id": "66802435ad3900d2",
   "metadata": {
    "ExecuteTime": {
     "end_time": "2024-12-02T00:16:20.261960Z",
     "start_time": "2024-12-02T00:16:20.259508Z"
    }
   },
   "source": [
    "num_workers: int = multiprocessing.cpu_count()"
   ],
   "outputs": [],
   "execution_count": 2
  },
  {
   "cell_type": "code",
   "id": "3773bf8a5f856a65",
   "metadata": {
    "ExecuteTime": {
     "end_time": "2024-12-02T00:16:20.938594Z",
     "start_time": "2024-12-02T00:16:20.564918Z"
    }
   },
   "source": [
    "train_info_df = polars.read_csv(\n",
    "\t\"../data/train_info.csv\", n_threads=num_workers, low_memory=True, rechunk=True, use_pyarrow=True\n",
    ")\n",
    "train_data_df = polars.read_csv(\n",
    "\t\"../data/train_data.csv\", n_threads=num_workers, low_memory=True, rechunk=True, use_pyarrow=True\n",
    ")"
   ],
   "outputs": [],
   "execution_count": 3
  },
  {
   "cell_type": "code",
   "id": "7cbb24852b24aded",
   "metadata": {
    "ExecuteTime": {
     "end_time": "2024-12-02T00:16:20.960799Z",
     "start_time": "2024-12-02T00:16:20.954005Z"
    }
   },
   "source": [
    "features = [\"Ax\", \"Ay\", \"Az\", \"Gx\", \"Gy\", \"Gz\"]"
   ],
   "outputs": [],
   "execution_count": 4
  },
  {
   "cell_type": "code",
   "id": "c5378776c56356c",
   "metadata": {
    "ExecuteTime": {
     "end_time": "2024-12-02T00:16:21.415241Z",
     "start_time": "2024-12-02T00:16:21.021040Z"
    }
   },
   "source": [
    "train_data_df = (\n",
    "\ttrain_data_df.sort(\"player_ID\", \"data_id\", \"time_order\")\n",
    "\t.set_sorted(\"time_order\")\n",
    "\t.group_by(\"player_ID\", maintain_order=True)\n",
    "\t.agg([polars.mean(features).name.suffix(\"_mean\"), polars.std(features).name.suffix(\"_std\")])\n",
    "\t.join(train_data_df, on=\"player_ID\")\n",
    "\t.with_columns(((polars.col(col) - polars.col(f\"{col}_mean\")) / polars.col(f\"{col}_std\")) for col in features)\n",
    "\t.drop([\"^[AG][xyz]_mean$\", \"^[AG][xyz]_std$\"])\n",
    ")"
   ],
   "outputs": [],
   "execution_count": 5
  },
  {
   "cell_type": "code",
   "id": "8f64c1a1372243be",
   "metadata": {
    "ExecuteTime": {
     "end_time": "2024-12-02T00:16:24.148285Z",
     "start_time": "2024-12-02T00:16:21.432016Z"
    }
   },
   "source": [
    "train_data_df = train_data_df.rolling(\n",
    "\tindex_column=\"time_order\", group_by=[\"player_ID\", \"data_id\"], offset=\"0i\", period=\"42i\", closed=\"both\"\n",
    ").agg(polars.all())"
   ],
   "outputs": [],
   "execution_count": 6
  },
  {
   "cell_type": "code",
   "id": "ffc27eda4aeb8640",
   "metadata": {
    "ExecuteTime": {
     "end_time": "2024-12-02T00:16:26.930190Z",
     "start_time": "2024-12-02T00:16:24.171870Z"
    }
   },
   "source": [
    "train_df = train_data_df.join(train_info_df, on=\"data_id\").drop([\"player_ID\", \"data_id\", \"time_order\"])"
   ],
   "outputs": [],
   "execution_count": 7
  },
  {
   "cell_type": "code",
   "id": "ea7e50edfe59f939",
   "metadata": {
    "ExecuteTime": {
     "end_time": "2024-12-02T00:16:39.082921Z",
     "start_time": "2024-12-02T00:16:26.961914Z"
    }
   },
   "source": "dataset = Dataset(train_df.to_arrow())",
   "outputs": [],
   "execution_count": 8
  },
  {
   "cell_type": "code",
   "id": "86bb24f4e2d67d94",
   "metadata": {
    "ExecuteTime": {
     "end_time": "2024-12-02T00:16:39.198863Z",
     "start_time": "2024-12-02T00:16:39.154287Z"
    }
   },
   "source": "dataset",
   "outputs": [
    {
     "data": {
      "text/plain": [
       "Dataset({\n",
       "    features: ['Ax', 'Ay', 'Az', 'Gx', 'Gy', 'Gz', 'gender', 'hold racket handed', 'play years', 'level'],\n",
       "    num_rows: 2605094\n",
       "})"
      ]
     },
     "execution_count": 9,
     "metadata": {},
     "output_type": "execute_result"
    }
   ],
   "execution_count": 9
  },
  {
   "metadata": {
    "ExecuteTime": {
     "end_time": "2024-12-02T00:16:39.604308Z",
     "start_time": "2024-12-02T00:16:39.273514Z"
    }
   },
   "cell_type": "code",
   "source": "dataset = dataset.train_test_split(test_size=0.2)",
   "id": "747f02b614fc8d39",
   "outputs": [],
   "execution_count": 10
  },
  {
   "metadata": {
    "ExecuteTime": {
     "end_time": "2024-12-02T00:16:39.692738Z",
     "start_time": "2024-12-02T00:16:39.689928Z"
    }
   },
   "cell_type": "code",
   "source": "dataset",
   "id": "a307f6acc7c27d5b",
   "outputs": [
    {
     "data": {
      "text/plain": [
       "DatasetDict({\n",
       "    train: Dataset({\n",
       "        features: ['Ax', 'Ay', 'Az', 'Gx', 'Gy', 'Gz', 'gender', 'hold racket handed', 'play years', 'level'],\n",
       "        num_rows: 2084075\n",
       "    })\n",
       "    test: Dataset({\n",
       "        features: ['Ax', 'Ay', 'Az', 'Gx', 'Gy', 'Gz', 'gender', 'hold racket handed', 'play years', 'level'],\n",
       "        num_rows: 521019\n",
       "    })\n",
       "})"
      ]
     },
     "execution_count": 11,
     "metadata": {},
     "output_type": "execute_result"
    }
   ],
   "execution_count": 11
  },
  {
   "cell_type": "code",
   "id": "9fa8a8915e5c3f9b",
   "metadata": {
    "ExecuteTime": {
     "end_time": "2024-12-02T00:16:39.803649Z",
     "start_time": "2024-12-02T00:16:39.696936Z"
    }
   },
   "source": [
    "test_df = polars.read_csv(\n",
    "\t\"../data/test_data.csv\", n_threads=num_workers, low_memory=True, rechunk=True, use_pyarrow=True\n",
    ")\n",
    "test_df = test_df.sort(\"data_id\", \"time_order\").set_sorted(\"time_order\")"
   ],
   "outputs": [],
   "execution_count": 12
  },
  {
   "cell_type": "code",
   "id": "bf5fdff21843ad5c",
   "metadata": {
    "ExecuteTime": {
     "end_time": "2024-12-02T00:16:42.399529Z",
     "start_time": "2024-12-02T00:16:42.370579Z"
    }
   },
   "source": [
    "test_df = test_df.with_columns((polars.col(features) - polars.mean(features)) / polars.std(features))"
   ],
   "outputs": [],
   "execution_count": 13
  },
  {
   "cell_type": "code",
   "id": "31b6e3688ddea33e",
   "metadata": {
    "ExecuteTime": {
     "end_time": "2024-12-02T00:16:43.103494Z",
     "start_time": "2024-12-02T00:16:42.436665Z"
    }
   },
   "source": [
    "test_df = test_df.rolling(index_column=\"time_order\", group_by=\"data_id\", offset=\"0i\", period=\"42i\", closed=\"both\").agg(\n",
    "\tpolars.all()\n",
    ")"
   ],
   "outputs": [],
   "execution_count": 14
  },
  {
   "cell_type": "code",
   "id": "e424e1c990fb6a24",
   "metadata": {
    "ExecuteTime": {
     "end_time": "2024-12-02T00:16:43.110055Z",
     "start_time": "2024-12-02T00:16:43.108393Z"
    }
   },
   "source": [
    "test_df = test_df.drop(\"time_order\")"
   ],
   "outputs": [],
   "execution_count": 15
  },
  {
   "cell_type": "code",
   "id": "2f56bce56f5f9d96",
   "metadata": {
    "ExecuteTime": {
     "end_time": "2024-12-02T00:16:45.679771Z",
     "start_time": "2024-12-02T00:16:43.155919Z"
    }
   },
   "source": [
    "test_dataset = Dataset(test_df.to_arrow())"
   ],
   "outputs": [],
   "execution_count": 16
  },
  {
   "cell_type": "code",
   "id": "4994571226dd0432",
   "metadata": {
    "ExecuteTime": {
     "end_time": "2024-12-02T00:16:45.688101Z",
     "start_time": "2024-12-02T00:16:45.685356Z"
    }
   },
   "source": [
    "test_dataset"
   ],
   "outputs": [
    {
     "data": {
      "text/plain": [
       "Dataset({\n",
       "    features: ['data_id', 'Ax', 'Ay', 'Az', 'Gx', 'Gy', 'Gz'],\n",
       "    num_rows: 1005894\n",
       "})"
      ]
     },
     "execution_count": 17,
     "metadata": {},
     "output_type": "execute_result"
    }
   ],
   "execution_count": 17
  },
  {
   "cell_type": "code",
   "id": "c4edb35cb21da432",
   "metadata": {
    "ExecuteTime": {
     "end_time": "2024-12-02T00:16:45.754109Z",
     "start_time": "2024-12-02T00:16:45.752607Z"
    }
   },
   "source": [],
   "outputs": [],
   "execution_count": null
  }
 ],
 "metadata": {
  "kernelspec": {
   "display_name": "Python 3",
   "language": "python",
   "name": "python3"
  },
  "language_info": {
   "codemirror_mode": {
    "name": "ipython",
    "version": 2
   },
   "file_extension": ".py",
   "mimetype": "text/x-python",
   "name": "python",
   "nbconvert_exporter": "python",
   "pygments_lexer": "ipython2",
   "version": "2.7.6"
  }
 },
 "nbformat": 4,
 "nbformat_minor": 5
}
