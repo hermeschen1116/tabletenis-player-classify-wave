{
 "cells": [
  {
   "cell_type": "code",
   "execution_count": 1,
   "id": "initial_id",
   "metadata": {
    "ExecuteTime": {
     "end_time": "2024-12-02T14:29:39.884517Z",
     "start_time": "2024-12-02T14:29:37.867720Z"
    },
    "collapsed": true
   },
   "outputs": [],
   "source": [
    "import os\n",
    "from typing import List\n",
    "\n",
    "import polars\n",
    "import torch\n",
    "from datasets import Dataset\n",
    "from sklearn.metrics import roc_auc_score\n",
    "from torch.nn import CrossEntropyLoss\n",
    "from torch.utils.data import DataLoader\n",
    "from tqdm.auto import tqdm\n",
    "\n",
    "from tabletenis_player_classify_wave.Model import LSTMClassifier"
   ]
  },
  {
   "cell_type": "code",
   "execution_count": 2,
   "id": "8041d334a9a9835e",
   "metadata": {
    "ExecuteTime": {
     "end_time": "2024-12-02T14:29:39.893398Z",
     "start_time": "2024-12-02T14:29:39.891378Z"
    }
   },
   "outputs": [],
   "source": [
    "num_workers: int = os.cpu_count()\n",
    "device: str = \"cuda\"\n",
    "features: List[str] = [\"Ax\", \"Ay\", \"Az\", \"Gx\", \"Gy\", \"Gz\"]\n",
    "labels: List[str] = [\"gender\", \"hold racket handed\", \"play years\", \"level\"]"
   ]
  },
  {
   "cell_type": "code",
   "execution_count": 3,
   "id": "34027dc9902bccd0",
   "metadata": {
    "ExecuteTime": {
     "end_time": "2024-12-02T14:29:40.103758Z",
     "start_time": "2024-12-02T14:29:39.951997Z"
    }
   },
   "outputs": [],
   "source": [
    "train_info_df = polars.read_csv(\n",
    "\t\"../data/train_info.csv\", n_threads=num_workers, low_memory=True, rechunk=True, use_pyarrow=True\n",
    ")\n",
    "train_data_df = polars.read_csv(\n",
    "\t\"../data/train_data.csv\", n_threads=num_workers, low_memory=True, rechunk=True, use_pyarrow=True\n",
    ")"
   ]
  },
  {
   "cell_type": "code",
   "execution_count": 4,
   "id": "4111515479e81d23",
   "metadata": {
    "ExecuteTime": {
     "end_time": "2024-12-02T14:29:40.333234Z",
     "start_time": "2024-12-02T14:29:40.108402Z"
    }
   },
   "outputs": [],
   "source": [
    "train_data_df = (\n",
    "\ttrain_data_df.sort(\"player_ID\", \"data_id\", \"time_order\")\n",
    "\t.set_sorted(\"time_order\")\n",
    "\t.group_by(\"player_ID\", maintain_order=True)\n",
    "\t.agg([polars.col(features).mean().name.suffix(\"_mean\"), polars.col(features).std().name.suffix(\"_std\")])\n",
    "\t.join(train_data_df, on=\"player_ID\")\n",
    "\t.with_columns(((polars.col(col) - polars.col(f\"{col}_mean\")) / polars.col(f\"{col}_std\")) for col in features)\n",
    "\t.drop([\"^[AG][xyz]_mean$\", \"^[AG][xyz]_std$\"])\n",
    ")"
   ]
  },
  {
   "cell_type": "code",
   "execution_count": 5,
   "id": "48f10af9f37ede6a",
   "metadata": {
    "ExecuteTime": {
     "end_time": "2024-12-02T14:29:40.339006Z",
     "start_time": "2024-12-02T14:29:40.337480Z"
    }
   },
   "outputs": [],
   "source": [
    "series_length: int = 42"
   ]
  },
  {
   "cell_type": "code",
   "execution_count": 6,
   "id": "164d8d41083d82fb",
   "metadata": {
    "ExecuteTime": {
     "end_time": "2024-12-02T14:29:42.419757Z",
     "start_time": "2024-12-02T14:29:40.383239Z"
    }
   },
   "outputs": [],
   "source": [
    "train_data_df = train_data_df.rolling(\n",
    "\tindex_column=\"time_order\", group_by=[\"player_ID\", \"data_id\"], period=f\"{series_length - 1}i\", closed=\"both\"\n",
    ").agg(polars.all())"
   ]
  },
  {
   "cell_type": "code",
   "execution_count": 7,
   "id": "ecfd9fbba691d16e",
   "metadata": {
    "ExecuteTime": {
     "end_time": "2024-12-02T14:29:43.589815Z",
     "start_time": "2024-12-02T14:29:42.424301Z"
    }
   },
   "outputs": [],
   "source": [
    "train_data_df = (\n",
    "\ttrain_data_df.with_columns(polars.col(features).list.get(0).name.suffix(\"_PAD\"))\n",
    "\t.with_columns(\n",
    "\t\tpolars.concat_list(polars.col(f\"{col}_PAD\").repeat_by(series_length - polars.col(col).list.len()), col).alias(\n",
    "\t\t\tcol\n",
    "\t\t)\n",
    "\t\tfor col in features\n",
    "\t)\n",
    "\t.drop(\"^[AG][xyz]_PAD$\")\n",
    ")"
   ]
  },
  {
   "cell_type": "code",
   "execution_count": 8,
   "id": "7bab78bc4473b514",
   "metadata": {
    "ExecuteTime": {
     "end_time": "2024-12-02T14:29:45.413293Z",
     "start_time": "2024-12-02T14:29:43.593484Z"
    }
   },
   "outputs": [],
   "source": [
    "train_df = train_data_df.join(train_info_df, on=\"data_id\").drop([\"player_ID\", \"data_id\", \"time_order\"])"
   ]
  },
  {
   "cell_type": "code",
   "execution_count": 9,
   "id": "fce5ac5d6cde80ae",
   "metadata": {
    "ExecuteTime": {
     "end_time": "2024-12-02T14:29:53.148068Z",
     "start_time": "2024-12-02T14:29:45.417162Z"
    }
   },
   "outputs": [],
   "source": [
    "dataset = Dataset(train_df.to_arrow())"
   ]
  },
  {
   "cell_type": "code",
   "execution_count": 11,
   "id": "94c9e77be66b18b0",
   "metadata": {
    "ExecuteTime": {
     "end_time": "2024-12-02T14:37:47.967786Z",
     "start_time": "2024-12-02T14:30:36.668344Z"
    }
   },
   "outputs": [
    {
     "data": {
      "application/vnd.jupyter.widget-view+json": {
       "model_id": "21b0fe5ab95f4c7092ef1a8830f81d48",
       "version_major": 2,
       "version_minor": 0
      },
      "text/plain": [
       "Map:   0%|          | 0/2605094 [00:00<?, ? examples/s]"
      ]
     },
     "metadata": {},
     "output_type": "display_data"
    }
   ],
   "source": [
    "dataset = dataset.map(\n",
    "\tlambda sample: {\"data\": torch.stack(tuple(torch.tensor(sample[col]) for col in features), dim=1)},\n",
    "\tremove_columns=features,\n",
    ")"
   ]
  },
  {
   "cell_type": "code",
   "execution_count": 12,
   "id": "ee78c52d71a1eaba",
   "metadata": {
    "ExecuteTime": {
     "end_time": "2024-12-02T14:37:48.243114Z",
     "start_time": "2024-12-02T14:37:47.992132Z"
    }
   },
   "outputs": [],
   "source": [
    "dataset = dataset.train_test_split(test_size=0.2)\n",
    "dataset = dataset.with_format(\"torch\")"
   ]
  },
  {
   "cell_type": "code",
   "id": "7238053ee60d1e8",
   "metadata": {
    "ExecuteTime": {
     "end_time": "2024-12-02T15:09:02.787971Z",
     "start_time": "2024-12-02T15:09:02.776289Z"
    }
   },
   "source": [
    "train_dataloader = DataLoader(\n",
    "\tdataset[\"train\"],\n",
    "\tbatch_size=4,\n",
    "\t# num_workers=num_workers, pin_memory=True, multiprocessing_context=\"spawn\", persistent_workers=True\n",
    ")\n",
    "validation_dataloader = DataLoader(\n",
    "\tdataset[\"test\"],\n",
    "\tbatch_size=4,\n",
    "\t# num_workers=num_workers, pin_memory=True, multiprocessing_context=\"spawn\", persistent_workers=True\n",
    ")"
   ],
   "outputs": [],
   "execution_count": 72
  },
  {
   "cell_type": "code",
   "id": "f64c998215bd06ff",
   "metadata": {
    "ExecuteTime": {
     "end_time": "2024-12-02T15:09:03.209763Z",
     "start_time": "2024-12-02T15:09:03.207399Z"
    }
   },
   "source": [
    "num_epochs: int = 5\n",
    "learning_rate: float = 0.0001"
   ],
   "outputs": [],
   "execution_count": 73
  },
  {
   "cell_type": "code",
   "id": "2155aa6ab4b3236",
   "metadata": {
    "ExecuteTime": {
     "end_time": "2024-12-02T15:09:03.622817Z",
     "start_time": "2024-12-02T15:09:03.608646Z"
    }
   },
   "source": [
    "model = LSTMClassifier(42, device=\"cuda\")"
   ],
   "outputs": [],
   "execution_count": 74
  },
  {
   "cell_type": "code",
   "id": "171a14a4c52f74cc",
   "metadata": {
    "ExecuteTime": {
     "end_time": "2024-12-02T15:09:03.988938Z",
     "start_time": "2024-12-02T15:09:03.981814Z"
    }
   },
   "source": [
    "loss_fn = CrossEntropyLoss()\n",
    "optimizer = torch.optim.AdamW(model.parameters(), lr=learning_rate)"
   ],
   "outputs": [],
   "execution_count": 75
  },
  {
   "cell_type": "code",
   "id": "bf81e6e13fb4a0e0",
   "metadata": {
    "ExecuteTime": {
     "end_time": "2024-12-02T15:09:37.678404Z",
     "start_time": "2024-12-02T15:09:04.405527Z"
    }
   },
   "source": [
    "for i in range(num_epochs):\n",
    "\tmodel.train()\n",
    "\ttraining_loss: torch.Tensor = torch.empty(0)\n",
    "\tfor batch in tqdm(train_dataloader, desc=f\"Train(Epoch {i}): \", colour=\"green\"):\n",
    "\t\tdata = batch[\"data\"].bfloat16().to(device)\n",
    "\t\tlabel = tuple(batch[col].long().to(device) for col in labels)\n",
    "\n",
    "\t\toptimizer.zero_grad()\n",
    "\t\toutputs = model.forward(data)\n",
    "\t\tloss = torch.tensor([loss_fn(outputs[j], label[j]) for j in range(4)], requires_grad=True).sum().unsqueeze(0)\n",
    "\t\ttraining_loss = torch.cat((training_loss, loss))\n",
    "\t\tloss.backward()\n",
    "\t\toptimizer.step()\n",
    "\tprint(f\"Training Loss(Epoch {i}): {training_loss.mean().item()}\")\n",
    "\tvalidation_loss: torch.Tensor = torch.empty(0)\n",
    "\tpredictions = [torch.empty(0) for _ in range(4)]\n",
    "\ttruths = [torch.empty(0) for _ in range(4)]\n",
    "\twith torch.no_grad():\n",
    "\t\tmodel.eval()\n",
    "\t\tcount = 0\n",
    "\t\tfor batch in tqdm(validation_dataloader, desc=f\"Validation(Epoch {i}): \", colour=\"blue\"):\n",
    "\t\t\tdata = batch[\"data\"].bfloat16()\n",
    "\t\t\tlabel = tuple(batch[col].long() for col in labels)\n",
    "\n",
    "\t\t\toutputs = model.forward(data.to(device))\n",
    "\t\t\tloss = (\n",
    "\t\t\t\ttorch.tensor([loss_fn(outputs[j], label[j].to(device)) for j in range(4)], requires_grad=True)\n",
    "\t\t\t\t.sum()\n",
    "\t\t\t\t.unsqueeze(0)\n",
    "\t\t\t)\n",
    "\t\t\tvalidation_loss = torch.cat((validation_loss, loss))\n",
    "\n",
    "\t\t\ttruths = [torch.cat((truths[i], label[i])) for i in range(4)]\n",
    "\t\t\tpredictions = [torch.cat((predictions[i], torch.max(outputs[i].cpu(), dim=-1)[0])) for i in range(4)]\n",
    "\t\t\tcount += 1\n",
    "\tprint(f\"Validation Loss(Epoch {i}): {validation_loss.mean().item()}\")\n",
    "\tgender_score = roc_auc_score(truths[0].numpy(), predictions[0].numpy(), average=\"micro\")\n",
    "\thold_racket_handed_score = roc_auc_score(truths[1].numpy(), predictions[1].numpy(), average=\"micro\")\n",
    "\tplay_years_score = roc_auc_score(truths[2].numpy(), predictions[2].numpy(), average=\"micro\", multi_class=\"ovr\")\n",
    "\tlevel_score = roc_auc_score(truths[3].numpy(), predictions[3].numpy(), average=\"micro\", multi_class=\"ovr\")\n",
    "\tavg_score = (gender_score + hold_racket_handed_score + play_years_score + level_score) / 4\n",
    "\tprint(f\"\"\"\n",
    "        ROC AUC Score\n",
    "        Gender: {gender_score}\n",
    "        Hold racket handed: {hold_racket_handed_score}\n",
    "        Player years: {play_years_score}\n",
    "        Level: {level_score}\n",
    "        Average Score: {avg_score}\n",
    "        \"\"\")"
   ],
   "outputs": [
    {
     "data": {
      "text/plain": [
       "Train(Epoch 0):   0%|          | 0/521019 [00:00<?, ?it/s]"
      ],
      "application/vnd.jupyter.widget-view+json": {
       "version_major": 2,
       "version_minor": 0,
       "model_id": "2d9f28d269fa426d95cb0d1376ad595f"
      }
     },
     "metadata": {},
     "output_type": "display_data"
    },
    {
     "name": "stderr",
     "output_type": "stream",
     "text": [
      "Exception ignored in: <function WeakSet.__init__.<locals>._remove at 0x7f3e84151440>\n",
      "Traceback (most recent call last):\n",
      "  File \"/usr/lib/python3.12/_weakrefset.py\", line 39, in _remove\n",
      "    def _remove(item, selfref=ref(self)):\n",
      "\n",
      "KeyboardInterrupt: \n",
      "Exception ignored in: <function tqdm.__del__ at 0x7f3e84152200>\n",
      "Traceback (most recent call last):\n",
      "  File \"/home/hermeschen/Repo/tabletenis-player-classify-wave/.venv/lib/python3.12/site-packages/tqdm/std.py\", line 1148, in __del__\n",
      "    self.close()\n",
      "  File \"/home/hermeschen/Repo/tabletenis-player-classify-wave/.venv/lib/python3.12/site-packages/tqdm/notebook.py\", line 279, in close\n",
      "    self.disp(bar_style='danger', check_delay=False)\n",
      "    ^^^^^^^^^\n",
      "AttributeError: 'tqdm' object has no attribute 'disp'\n",
      "Exception ignored in: <function _MultiProcessingDataLoaderIter.__del__ at 0x7f3e94621c60>\n",
      "Traceback (most recent call last):\n",
      "  File \"/home/hermeschen/Repo/tabletenis-player-classify-wave/.venv/lib/python3.12/site-packages/torch/utils/data/dataloader.py\", line 1604, in __del__\n",
      "    self._shutdown_workers()\n",
      "  File \"/home/hermeschen/Repo/tabletenis-player-classify-wave/.venv/lib/python3.12/site-packages/torch/utils/data/dataloader.py\", line 1563, in _shutdown_workers\n",
      "    self._mark_worker_as_unavailable(worker_id, shutdown=True)\n",
      "  File \"/home/hermeschen/Repo/tabletenis-player-classify-wave/.venv/lib/python3.12/site-packages/torch/utils/data/dataloader.py\", line 1499, in _mark_worker_as_unavailable\n",
      "    assert self._workers_status[worker_id] or (\n",
      "           ^^^^^^^^^^^^^^^^^^^^\n",
      "AttributeError: '_MultiProcessingDataLoaderIter' object has no attribute '_workers_status'\n"
     ]
    },
    {
     "ename": "KeyboardInterrupt",
     "evalue": "",
     "output_type": "error",
     "traceback": [
      "\u001B[0;31m---------------------------------------------------------------------------\u001B[0m",
      "\u001B[0;31mKeyboardInterrupt\u001B[0m                         Traceback (most recent call last)",
      "Cell \u001B[0;32mIn[76], line 4\u001B[0m\n\u001B[1;32m      2\u001B[0m model\u001B[38;5;241m.\u001B[39mtrain()\n\u001B[1;32m      3\u001B[0m training_loss: torch\u001B[38;5;241m.\u001B[39mTensor \u001B[38;5;241m=\u001B[39m torch\u001B[38;5;241m.\u001B[39mempty(\u001B[38;5;241m0\u001B[39m)\n\u001B[0;32m----> 4\u001B[0m \u001B[43m\u001B[49m\u001B[38;5;28;43;01mfor\u001B[39;49;00m\u001B[43m \u001B[49m\u001B[43mbatch\u001B[49m\u001B[43m \u001B[49m\u001B[38;5;129;43;01min\u001B[39;49;00m\u001B[43m \u001B[49m\u001B[43mtqdm\u001B[49m\u001B[43m(\u001B[49m\u001B[43mtrain_dataloader\u001B[49m\u001B[43m,\u001B[49m\u001B[43m \u001B[49m\u001B[43mdesc\u001B[49m\u001B[38;5;241;43m=\u001B[39;49m\u001B[38;5;124;43mf\u001B[39;49m\u001B[38;5;124;43m\"\u001B[39;49m\u001B[38;5;124;43mTrain(Epoch \u001B[39;49m\u001B[38;5;132;43;01m{\u001B[39;49;00m\u001B[43mi\u001B[49m\u001B[38;5;132;43;01m}\u001B[39;49;00m\u001B[38;5;124;43m): \u001B[39;49m\u001B[38;5;124;43m\"\u001B[39;49m\u001B[43m,\u001B[49m\u001B[43m \u001B[49m\u001B[43mcolour\u001B[49m\u001B[38;5;241;43m=\u001B[39;49m\u001B[38;5;124;43m\"\u001B[39;49m\u001B[38;5;124;43mgreen\u001B[39;49m\u001B[38;5;124;43m\"\u001B[39;49m\u001B[43m)\u001B[49m\u001B[43m:\u001B[49m\n\u001B[1;32m      5\u001B[0m \u001B[43m\t\u001B[49m\u001B[43mdata\u001B[49m\u001B[43m \u001B[49m\u001B[38;5;241;43m=\u001B[39;49m\u001B[43m \u001B[49m\u001B[43mbatch\u001B[49m\u001B[43m[\u001B[49m\u001B[38;5;124;43m\"\u001B[39;49m\u001B[38;5;124;43mdata\u001B[39;49m\u001B[38;5;124;43m\"\u001B[39;49m\u001B[43m]\u001B[49m\u001B[38;5;241;43m.\u001B[39;49m\u001B[43mbfloat16\u001B[49m\u001B[43m(\u001B[49m\u001B[43m)\u001B[49m\u001B[38;5;241;43m.\u001B[39;49m\u001B[43mto\u001B[49m\u001B[43m(\u001B[49m\u001B[43mdevice\u001B[49m\u001B[43m)\u001B[49m\n\u001B[1;32m      6\u001B[0m \u001B[43m\t\u001B[49m\u001B[43mlabel\u001B[49m\u001B[43m \u001B[49m\u001B[38;5;241;43m=\u001B[39;49m\u001B[43m \u001B[49m\u001B[38;5;28;43mtuple\u001B[39;49m\u001B[43m(\u001B[49m\u001B[43mbatch\u001B[49m\u001B[43m[\u001B[49m\u001B[43mcol\u001B[49m\u001B[43m]\u001B[49m\u001B[38;5;241;43m.\u001B[39;49m\u001B[43mlong\u001B[49m\u001B[43m(\u001B[49m\u001B[43m)\u001B[49m\u001B[38;5;241;43m.\u001B[39;49m\u001B[43mto\u001B[49m\u001B[43m(\u001B[49m\u001B[43mdevice\u001B[49m\u001B[43m)\u001B[49m\u001B[43m \u001B[49m\u001B[38;5;28;43;01mfor\u001B[39;49;00m\u001B[43m \u001B[49m\u001B[43mcol\u001B[49m\u001B[43m \u001B[49m\u001B[38;5;129;43;01min\u001B[39;49;00m\u001B[43m \u001B[49m\u001B[43mlabels\u001B[49m\u001B[43m)\u001B[49m\n",
      "File \u001B[0;32m~/Repo/tabletenis-player-classify-wave/.venv/lib/python3.12/site-packages/tqdm/notebook.py:250\u001B[0m, in \u001B[0;36mtqdm_notebook.__iter__\u001B[0;34m(self)\u001B[0m\n\u001B[1;32m    248\u001B[0m \u001B[38;5;28;01mtry\u001B[39;00m:\n\u001B[1;32m    249\u001B[0m     it \u001B[38;5;241m=\u001B[39m \u001B[38;5;28msuper\u001B[39m()\u001B[38;5;241m.\u001B[39m\u001B[38;5;21m__iter__\u001B[39m()\n\u001B[0;32m--> 250\u001B[0m \u001B[43m    \u001B[49m\u001B[38;5;28;43;01mfor\u001B[39;49;00m\u001B[43m \u001B[49m\u001B[43mobj\u001B[49m\u001B[43m \u001B[49m\u001B[38;5;129;43;01min\u001B[39;49;00m\u001B[43m \u001B[49m\u001B[43mit\u001B[49m\u001B[43m:\u001B[49m\n\u001B[1;32m    251\u001B[0m \u001B[43m        \u001B[49m\u001B[38;5;66;43;03m# return super(tqdm...) will not catch exception\u001B[39;49;00m\n\u001B[1;32m    252\u001B[0m \u001B[43m        \u001B[49m\u001B[38;5;28;43;01myield\u001B[39;49;00m\u001B[43m \u001B[49m\u001B[43mobj\u001B[49m\n\u001B[1;32m    253\u001B[0m \u001B[38;5;66;03m# NB: except ... [ as ...] breaks IPython async KeyboardInterrupt\u001B[39;00m\n",
      "File \u001B[0;32m~/Repo/tabletenis-player-classify-wave/.venv/lib/python3.12/site-packages/tqdm/std.py:1181\u001B[0m, in \u001B[0;36mtqdm.__iter__\u001B[0;34m(self)\u001B[0m\n\u001B[1;32m   1178\u001B[0m time \u001B[38;5;241m=\u001B[39m \u001B[38;5;28mself\u001B[39m\u001B[38;5;241m.\u001B[39m_time\n\u001B[1;32m   1180\u001B[0m \u001B[38;5;28;01mtry\u001B[39;00m:\n\u001B[0;32m-> 1181\u001B[0m \u001B[43m    \u001B[49m\u001B[38;5;28;43;01mfor\u001B[39;49;00m\u001B[43m \u001B[49m\u001B[43mobj\u001B[49m\u001B[43m \u001B[49m\u001B[38;5;129;43;01min\u001B[39;49;00m\u001B[43m \u001B[49m\u001B[43miterable\u001B[49m\u001B[43m:\u001B[49m\n\u001B[1;32m   1182\u001B[0m \u001B[43m        \u001B[49m\u001B[38;5;28;43;01myield\u001B[39;49;00m\u001B[43m \u001B[49m\u001B[43mobj\u001B[49m\n\u001B[1;32m   1183\u001B[0m \u001B[43m        \u001B[49m\u001B[38;5;66;43;03m# Update and possibly print the progressbar.\u001B[39;49;00m\n\u001B[1;32m   1184\u001B[0m \u001B[43m        \u001B[49m\u001B[38;5;66;43;03m# Note: does not call self.update(1) for speed optimisation.\u001B[39;49;00m\n",
      "File \u001B[0;32m~/Repo/tabletenis-player-classify-wave/.venv/lib/python3.12/site-packages/torch/utils/data/dataloader.py:701\u001B[0m, in \u001B[0;36m_BaseDataLoaderIter.__next__\u001B[0;34m(self)\u001B[0m\n\u001B[1;32m    698\u001B[0m \u001B[38;5;28;01mif\u001B[39;00m \u001B[38;5;28mself\u001B[39m\u001B[38;5;241m.\u001B[39m_sampler_iter \u001B[38;5;129;01mis\u001B[39;00m \u001B[38;5;28;01mNone\u001B[39;00m:\n\u001B[1;32m    699\u001B[0m     \u001B[38;5;66;03m# TODO(https://github.com/pytorch/pytorch/issues/76750)\u001B[39;00m\n\u001B[1;32m    700\u001B[0m     \u001B[38;5;28mself\u001B[39m\u001B[38;5;241m.\u001B[39m_reset()  \u001B[38;5;66;03m# type: ignore[call-arg]\u001B[39;00m\n\u001B[0;32m--> 701\u001B[0m data \u001B[38;5;241m=\u001B[39m \u001B[38;5;28;43mself\u001B[39;49m\u001B[38;5;241;43m.\u001B[39;49m\u001B[43m_next_data\u001B[49m\u001B[43m(\u001B[49m\u001B[43m)\u001B[49m\n\u001B[1;32m    702\u001B[0m \u001B[38;5;28mself\u001B[39m\u001B[38;5;241m.\u001B[39m_num_yielded \u001B[38;5;241m+\u001B[39m\u001B[38;5;241m=\u001B[39m \u001B[38;5;241m1\u001B[39m\n\u001B[1;32m    703\u001B[0m \u001B[38;5;28;01mif\u001B[39;00m (\n\u001B[1;32m    704\u001B[0m     \u001B[38;5;28mself\u001B[39m\u001B[38;5;241m.\u001B[39m_dataset_kind \u001B[38;5;241m==\u001B[39m _DatasetKind\u001B[38;5;241m.\u001B[39mIterable\n\u001B[1;32m    705\u001B[0m     \u001B[38;5;129;01mand\u001B[39;00m \u001B[38;5;28mself\u001B[39m\u001B[38;5;241m.\u001B[39m_IterableDataset_len_called \u001B[38;5;129;01mis\u001B[39;00m \u001B[38;5;129;01mnot\u001B[39;00m \u001B[38;5;28;01mNone\u001B[39;00m\n\u001B[1;32m    706\u001B[0m     \u001B[38;5;129;01mand\u001B[39;00m \u001B[38;5;28mself\u001B[39m\u001B[38;5;241m.\u001B[39m_num_yielded \u001B[38;5;241m>\u001B[39m \u001B[38;5;28mself\u001B[39m\u001B[38;5;241m.\u001B[39m_IterableDataset_len_called\n\u001B[1;32m    707\u001B[0m ):\n",
      "File \u001B[0;32m~/Repo/tabletenis-player-classify-wave/.venv/lib/python3.12/site-packages/torch/utils/data/dataloader.py:757\u001B[0m, in \u001B[0;36m_SingleProcessDataLoaderIter._next_data\u001B[0;34m(self)\u001B[0m\n\u001B[1;32m    755\u001B[0m \u001B[38;5;28;01mdef\u001B[39;00m \u001B[38;5;21m_next_data\u001B[39m(\u001B[38;5;28mself\u001B[39m):\n\u001B[1;32m    756\u001B[0m     index \u001B[38;5;241m=\u001B[39m \u001B[38;5;28mself\u001B[39m\u001B[38;5;241m.\u001B[39m_next_index()  \u001B[38;5;66;03m# may raise StopIteration\u001B[39;00m\n\u001B[0;32m--> 757\u001B[0m     data \u001B[38;5;241m=\u001B[39m \u001B[38;5;28;43mself\u001B[39;49m\u001B[38;5;241;43m.\u001B[39;49m\u001B[43m_dataset_fetcher\u001B[49m\u001B[38;5;241;43m.\u001B[39;49m\u001B[43mfetch\u001B[49m\u001B[43m(\u001B[49m\u001B[43mindex\u001B[49m\u001B[43m)\u001B[49m  \u001B[38;5;66;03m# may raise StopIteration\u001B[39;00m\n\u001B[1;32m    758\u001B[0m     \u001B[38;5;28;01mif\u001B[39;00m \u001B[38;5;28mself\u001B[39m\u001B[38;5;241m.\u001B[39m_pin_memory:\n\u001B[1;32m    759\u001B[0m         data \u001B[38;5;241m=\u001B[39m _utils\u001B[38;5;241m.\u001B[39mpin_memory\u001B[38;5;241m.\u001B[39mpin_memory(data, \u001B[38;5;28mself\u001B[39m\u001B[38;5;241m.\u001B[39m_pin_memory_device)\n",
      "File \u001B[0;32m~/Repo/tabletenis-player-classify-wave/.venv/lib/python3.12/site-packages/torch/utils/data/_utils/fetch.py:50\u001B[0m, in \u001B[0;36m_MapDatasetFetcher.fetch\u001B[0;34m(self, possibly_batched_index)\u001B[0m\n\u001B[1;32m     48\u001B[0m \u001B[38;5;28;01mif\u001B[39;00m \u001B[38;5;28mself\u001B[39m\u001B[38;5;241m.\u001B[39mauto_collation:\n\u001B[1;32m     49\u001B[0m     \u001B[38;5;28;01mif\u001B[39;00m \u001B[38;5;28mhasattr\u001B[39m(\u001B[38;5;28mself\u001B[39m\u001B[38;5;241m.\u001B[39mdataset, \u001B[38;5;124m\"\u001B[39m\u001B[38;5;124m__getitems__\u001B[39m\u001B[38;5;124m\"\u001B[39m) \u001B[38;5;129;01mand\u001B[39;00m \u001B[38;5;28mself\u001B[39m\u001B[38;5;241m.\u001B[39mdataset\u001B[38;5;241m.\u001B[39m__getitems__:\n\u001B[0;32m---> 50\u001B[0m         data \u001B[38;5;241m=\u001B[39m \u001B[38;5;28;43mself\u001B[39;49m\u001B[38;5;241;43m.\u001B[39;49m\u001B[43mdataset\u001B[49m\u001B[38;5;241;43m.\u001B[39;49m\u001B[43m__getitems__\u001B[49m\u001B[43m(\u001B[49m\u001B[43mpossibly_batched_index\u001B[49m\u001B[43m)\u001B[49m\n\u001B[1;32m     51\u001B[0m     \u001B[38;5;28;01melse\u001B[39;00m:\n\u001B[1;32m     52\u001B[0m         data \u001B[38;5;241m=\u001B[39m [\u001B[38;5;28mself\u001B[39m\u001B[38;5;241m.\u001B[39mdataset[idx] \u001B[38;5;28;01mfor\u001B[39;00m idx \u001B[38;5;129;01min\u001B[39;00m possibly_batched_index]\n",
      "File \u001B[0;32m~/Repo/tabletenis-player-classify-wave/.venv/lib/python3.12/site-packages/datasets/arrow_dataset.py:2766\u001B[0m, in \u001B[0;36mDataset.__getitems__\u001B[0;34m(self, keys)\u001B[0m\n\u001B[1;32m   2764\u001B[0m \u001B[38;5;28;01mdef\u001B[39;00m \u001B[38;5;21m__getitems__\u001B[39m(\u001B[38;5;28mself\u001B[39m, keys: List) \u001B[38;5;241m-\u001B[39m\u001B[38;5;241m>\u001B[39m List:\n\u001B[1;32m   2765\u001B[0m \u001B[38;5;250m    \u001B[39m\u001B[38;5;124;03m\"\"\"Can be used to get a batch using a list of integers indices.\"\"\"\u001B[39;00m\n\u001B[0;32m-> 2766\u001B[0m     batch \u001B[38;5;241m=\u001B[39m \u001B[38;5;28;43mself\u001B[39;49m\u001B[38;5;241;43m.\u001B[39;49m\u001B[38;5;21;43m__getitem__\u001B[39;49m\u001B[43m(\u001B[49m\u001B[43mkeys\u001B[49m\u001B[43m)\u001B[49m\n\u001B[1;32m   2767\u001B[0m     n_examples \u001B[38;5;241m=\u001B[39m \u001B[38;5;28mlen\u001B[39m(batch[\u001B[38;5;28mnext\u001B[39m(\u001B[38;5;28miter\u001B[39m(batch))])\n\u001B[1;32m   2768\u001B[0m     \u001B[38;5;28;01mreturn\u001B[39;00m [{col: array[i] \u001B[38;5;28;01mfor\u001B[39;00m col, array \u001B[38;5;129;01min\u001B[39;00m batch\u001B[38;5;241m.\u001B[39mitems()} \u001B[38;5;28;01mfor\u001B[39;00m i \u001B[38;5;129;01min\u001B[39;00m \u001B[38;5;28mrange\u001B[39m(n_examples)]\n",
      "File \u001B[0;32m~/Repo/tabletenis-player-classify-wave/.venv/lib/python3.12/site-packages/datasets/arrow_dataset.py:2762\u001B[0m, in \u001B[0;36mDataset.__getitem__\u001B[0;34m(self, key)\u001B[0m\n\u001B[1;32m   2760\u001B[0m \u001B[38;5;28;01mdef\u001B[39;00m \u001B[38;5;21m__getitem__\u001B[39m(\u001B[38;5;28mself\u001B[39m, key):  \u001B[38;5;66;03m# noqa: F811\u001B[39;00m\n\u001B[1;32m   2761\u001B[0m \u001B[38;5;250m    \u001B[39m\u001B[38;5;124;03m\"\"\"Can be used to index columns (by string names) or rows (by integer index or iterable of indices or bools).\"\"\"\u001B[39;00m\n\u001B[0;32m-> 2762\u001B[0m     \u001B[38;5;28;01mreturn\u001B[39;00m \u001B[38;5;28;43mself\u001B[39;49m\u001B[38;5;241;43m.\u001B[39;49m\u001B[43m_getitem\u001B[49m\u001B[43m(\u001B[49m\u001B[43mkey\u001B[49m\u001B[43m)\u001B[49m\n",
      "File \u001B[0;32m~/Repo/tabletenis-player-classify-wave/.venv/lib/python3.12/site-packages/datasets/arrow_dataset.py:2747\u001B[0m, in \u001B[0;36mDataset._getitem\u001B[0;34m(self, key, **kwargs)\u001B[0m\n\u001B[1;32m   2745\u001B[0m formatter \u001B[38;5;241m=\u001B[39m get_formatter(format_type, features\u001B[38;5;241m=\u001B[39m\u001B[38;5;28mself\u001B[39m\u001B[38;5;241m.\u001B[39m_info\u001B[38;5;241m.\u001B[39mfeatures, \u001B[38;5;241m*\u001B[39m\u001B[38;5;241m*\u001B[39mformat_kwargs)\n\u001B[1;32m   2746\u001B[0m pa_subtable \u001B[38;5;241m=\u001B[39m query_table(\u001B[38;5;28mself\u001B[39m\u001B[38;5;241m.\u001B[39m_data, key, indices\u001B[38;5;241m=\u001B[39m\u001B[38;5;28mself\u001B[39m\u001B[38;5;241m.\u001B[39m_indices)\n\u001B[0;32m-> 2747\u001B[0m formatted_output \u001B[38;5;241m=\u001B[39m \u001B[43mformat_table\u001B[49m\u001B[43m(\u001B[49m\n\u001B[1;32m   2748\u001B[0m \u001B[43m    \u001B[49m\u001B[43mpa_subtable\u001B[49m\u001B[43m,\u001B[49m\u001B[43m \u001B[49m\u001B[43mkey\u001B[49m\u001B[43m,\u001B[49m\u001B[43m \u001B[49m\u001B[43mformatter\u001B[49m\u001B[38;5;241;43m=\u001B[39;49m\u001B[43mformatter\u001B[49m\u001B[43m,\u001B[49m\u001B[43m \u001B[49m\u001B[43mformat_columns\u001B[49m\u001B[38;5;241;43m=\u001B[39;49m\u001B[43mformat_columns\u001B[49m\u001B[43m,\u001B[49m\u001B[43m \u001B[49m\u001B[43moutput_all_columns\u001B[49m\u001B[38;5;241;43m=\u001B[39;49m\u001B[43moutput_all_columns\u001B[49m\n\u001B[1;32m   2749\u001B[0m \u001B[43m\u001B[49m\u001B[43m)\u001B[49m\n\u001B[1;32m   2750\u001B[0m \u001B[38;5;28;01mreturn\u001B[39;00m formatted_output\n",
      "File \u001B[0;32m~/Repo/tabletenis-player-classify-wave/.venv/lib/python3.12/site-packages/datasets/formatting/formatting.py:639\u001B[0m, in \u001B[0;36mformat_table\u001B[0;34m(table, key, formatter, format_columns, output_all_columns)\u001B[0m\n\u001B[1;32m    637\u001B[0m python_formatter \u001B[38;5;241m=\u001B[39m PythonFormatter(features\u001B[38;5;241m=\u001B[39mformatter\u001B[38;5;241m.\u001B[39mfeatures)\n\u001B[1;32m    638\u001B[0m \u001B[38;5;28;01mif\u001B[39;00m format_columns \u001B[38;5;129;01mis\u001B[39;00m \u001B[38;5;28;01mNone\u001B[39;00m:\n\u001B[0;32m--> 639\u001B[0m     \u001B[38;5;28;01mreturn\u001B[39;00m \u001B[43mformatter\u001B[49m\u001B[43m(\u001B[49m\u001B[43mpa_table\u001B[49m\u001B[43m,\u001B[49m\u001B[43m \u001B[49m\u001B[43mquery_type\u001B[49m\u001B[38;5;241;43m=\u001B[39;49m\u001B[43mquery_type\u001B[49m\u001B[43m)\u001B[49m\n\u001B[1;32m    640\u001B[0m \u001B[38;5;28;01melif\u001B[39;00m query_type \u001B[38;5;241m==\u001B[39m \u001B[38;5;124m\"\u001B[39m\u001B[38;5;124mcolumn\u001B[39m\u001B[38;5;124m\"\u001B[39m:\n\u001B[1;32m    641\u001B[0m     \u001B[38;5;28;01mif\u001B[39;00m key \u001B[38;5;129;01min\u001B[39;00m format_columns:\n",
      "File \u001B[0;32m~/Repo/tabletenis-player-classify-wave/.venv/lib/python3.12/site-packages/datasets/formatting/formatting.py:407\u001B[0m, in \u001B[0;36mFormatter.__call__\u001B[0;34m(self, pa_table, query_type)\u001B[0m\n\u001B[1;32m    405\u001B[0m     \u001B[38;5;28;01mreturn\u001B[39;00m \u001B[38;5;28mself\u001B[39m\u001B[38;5;241m.\u001B[39mformat_column(pa_table)\n\u001B[1;32m    406\u001B[0m \u001B[38;5;28;01melif\u001B[39;00m query_type \u001B[38;5;241m==\u001B[39m \u001B[38;5;124m\"\u001B[39m\u001B[38;5;124mbatch\u001B[39m\u001B[38;5;124m\"\u001B[39m:\n\u001B[0;32m--> 407\u001B[0m     \u001B[38;5;28;01mreturn\u001B[39;00m \u001B[38;5;28;43mself\u001B[39;49m\u001B[38;5;241;43m.\u001B[39;49m\u001B[43mformat_batch\u001B[49m\u001B[43m(\u001B[49m\u001B[43mpa_table\u001B[49m\u001B[43m)\u001B[49m\n",
      "File \u001B[0;32m~/Repo/tabletenis-player-classify-wave/.venv/lib/python3.12/site-packages/datasets/formatting/torch_formatter.py:121\u001B[0m, in \u001B[0;36mTorchFormatter.format_batch\u001B[0;34m(self, pa_table)\u001B[0m\n\u001B[1;32m    119\u001B[0m batch \u001B[38;5;241m=\u001B[39m \u001B[38;5;28mself\u001B[39m\u001B[38;5;241m.\u001B[39mnumpy_arrow_extractor()\u001B[38;5;241m.\u001B[39mextract_batch(pa_table)\n\u001B[1;32m    120\u001B[0m batch \u001B[38;5;241m=\u001B[39m \u001B[38;5;28mself\u001B[39m\u001B[38;5;241m.\u001B[39mpython_features_decoder\u001B[38;5;241m.\u001B[39mdecode_batch(batch)\n\u001B[0;32m--> 121\u001B[0m batch \u001B[38;5;241m=\u001B[39m \u001B[38;5;28;43mself\u001B[39;49m\u001B[38;5;241;43m.\u001B[39;49m\u001B[43mrecursive_tensorize\u001B[49m\u001B[43m(\u001B[49m\u001B[43mbatch\u001B[49m\u001B[43m)\u001B[49m\n\u001B[1;32m    122\u001B[0m \u001B[38;5;28;01mfor\u001B[39;00m column_name \u001B[38;5;129;01min\u001B[39;00m batch:\n\u001B[1;32m    123\u001B[0m     batch[column_name] \u001B[38;5;241m=\u001B[39m \u001B[38;5;28mself\u001B[39m\u001B[38;5;241m.\u001B[39m_consolidate(batch[column_name])\n",
      "File \u001B[0;32m~/Repo/tabletenis-player-classify-wave/.venv/lib/python3.12/site-packages/datasets/formatting/torch_formatter.py:104\u001B[0m, in \u001B[0;36mTorchFormatter.recursive_tensorize\u001B[0;34m(self, data_struct)\u001B[0m\n\u001B[1;32m    103\u001B[0m \u001B[38;5;28;01mdef\u001B[39;00m \u001B[38;5;21mrecursive_tensorize\u001B[39m(\u001B[38;5;28mself\u001B[39m, data_struct: \u001B[38;5;28mdict\u001B[39m):\n\u001B[0;32m--> 104\u001B[0m     \u001B[38;5;28;01mreturn\u001B[39;00m \u001B[43mmap_nested\u001B[49m\u001B[43m(\u001B[49m\u001B[38;5;28;43mself\u001B[39;49m\u001B[38;5;241;43m.\u001B[39;49m\u001B[43m_recursive_tensorize\u001B[49m\u001B[43m,\u001B[49m\u001B[43m \u001B[49m\u001B[43mdata_struct\u001B[49m\u001B[43m,\u001B[49m\u001B[43m \u001B[49m\u001B[43mmap_list\u001B[49m\u001B[38;5;241;43m=\u001B[39;49m\u001B[38;5;28;43;01mFalse\u001B[39;49;00m\u001B[43m)\u001B[49m\n",
      "File \u001B[0;32m~/Repo/tabletenis-player-classify-wave/.venv/lib/python3.12/site-packages/datasets/utils/py_utils.py:512\u001B[0m, in \u001B[0;36mmap_nested\u001B[0;34m(function, data_struct, dict_only, map_list, map_tuple, map_numpy, num_proc, parallel_min_length, batched, batch_size, types, disable_tqdm, desc)\u001B[0m\n\u001B[1;32m    509\u001B[0m         batch_size \u001B[38;5;241m=\u001B[39m \u001B[38;5;28mmax\u001B[39m(\u001B[38;5;28mlen\u001B[39m(iterable) \u001B[38;5;241m/\u001B[39m\u001B[38;5;241m/\u001B[39m num_proc \u001B[38;5;241m+\u001B[39m \u001B[38;5;28mint\u001B[39m(\u001B[38;5;28mlen\u001B[39m(iterable) \u001B[38;5;241m%\u001B[39m num_proc \u001B[38;5;241m>\u001B[39m \u001B[38;5;241m0\u001B[39m), \u001B[38;5;241m1\u001B[39m)\n\u001B[1;32m    510\u001B[0m     iterable \u001B[38;5;241m=\u001B[39m \u001B[38;5;28mlist\u001B[39m(iter_batched(iterable, batch_size))\n\u001B[1;32m    511\u001B[0m mapped \u001B[38;5;241m=\u001B[39m [\n\u001B[0;32m--> 512\u001B[0m     \u001B[43m_single_map_nested\u001B[49m\u001B[43m(\u001B[49m\u001B[43m(\u001B[49m\u001B[43mfunction\u001B[49m\u001B[43m,\u001B[49m\u001B[43m \u001B[49m\u001B[43mobj\u001B[49m\u001B[43m,\u001B[49m\u001B[43m \u001B[49m\u001B[43mbatched\u001B[49m\u001B[43m,\u001B[49m\u001B[43m \u001B[49m\u001B[43mbatch_size\u001B[49m\u001B[43m,\u001B[49m\u001B[43m \u001B[49m\u001B[43mtypes\u001B[49m\u001B[43m,\u001B[49m\u001B[43m \u001B[49m\u001B[38;5;28;43;01mNone\u001B[39;49;00m\u001B[43m,\u001B[49m\u001B[43m \u001B[49m\u001B[38;5;28;43;01mTrue\u001B[39;49;00m\u001B[43m,\u001B[49m\u001B[43m \u001B[49m\u001B[38;5;28;43;01mNone\u001B[39;49;00m\u001B[43m)\u001B[49m\u001B[43m)\u001B[49m\n\u001B[1;32m    513\u001B[0m     \u001B[38;5;28;01mfor\u001B[39;00m obj \u001B[38;5;129;01min\u001B[39;00m hf_tqdm(iterable, disable\u001B[38;5;241m=\u001B[39mdisable_tqdm, desc\u001B[38;5;241m=\u001B[39mdesc)\n\u001B[1;32m    514\u001B[0m ]\n\u001B[1;32m    515\u001B[0m \u001B[38;5;28;01mif\u001B[39;00m batched:\n\u001B[1;32m    516\u001B[0m     mapped \u001B[38;5;241m=\u001B[39m [mapped_item \u001B[38;5;28;01mfor\u001B[39;00m mapped_batch \u001B[38;5;129;01min\u001B[39;00m mapped \u001B[38;5;28;01mfor\u001B[39;00m mapped_item \u001B[38;5;129;01min\u001B[39;00m mapped_batch]\n",
      "File \u001B[0;32m~/Repo/tabletenis-player-classify-wave/.venv/lib/python3.12/site-packages/datasets/utils/py_utils.py:373\u001B[0m, in \u001B[0;36m_single_map_nested\u001B[0;34m(args)\u001B[0m\n\u001B[1;32m    371\u001B[0m         \u001B[38;5;28;01mreturn\u001B[39;00m function([data_struct])[\u001B[38;5;241m0\u001B[39m]\n\u001B[1;32m    372\u001B[0m     \u001B[38;5;28;01melse\u001B[39;00m:\n\u001B[0;32m--> 373\u001B[0m         \u001B[38;5;28;01mreturn\u001B[39;00m \u001B[43mfunction\u001B[49m\u001B[43m(\u001B[49m\u001B[43mdata_struct\u001B[49m\u001B[43m)\u001B[49m\n\u001B[1;32m    374\u001B[0m \u001B[38;5;28;01mif\u001B[39;00m (\n\u001B[1;32m    375\u001B[0m     batched\n\u001B[1;32m    376\u001B[0m     \u001B[38;5;129;01mand\u001B[39;00m \u001B[38;5;129;01mnot\u001B[39;00m \u001B[38;5;28misinstance\u001B[39m(data_struct, \u001B[38;5;28mdict\u001B[39m)\n\u001B[1;32m    377\u001B[0m     \u001B[38;5;129;01mand\u001B[39;00m \u001B[38;5;28misinstance\u001B[39m(data_struct, types)\n\u001B[1;32m    378\u001B[0m     \u001B[38;5;129;01mand\u001B[39;00m \u001B[38;5;28mall\u001B[39m(\u001B[38;5;129;01mnot\u001B[39;00m \u001B[38;5;28misinstance\u001B[39m(v, (\u001B[38;5;28mdict\u001B[39m, types)) \u001B[38;5;28;01mfor\u001B[39;00m v \u001B[38;5;129;01min\u001B[39;00m data_struct)\n\u001B[1;32m    379\u001B[0m ):\n\u001B[1;32m    380\u001B[0m     \u001B[38;5;28;01mreturn\u001B[39;00m [mapped_item \u001B[38;5;28;01mfor\u001B[39;00m batch \u001B[38;5;129;01min\u001B[39;00m iter_batched(data_struct, batch_size) \u001B[38;5;28;01mfor\u001B[39;00m mapped_item \u001B[38;5;129;01min\u001B[39;00m function(batch)]\n",
      "File \u001B[0;32m~/Repo/tabletenis-player-classify-wave/.venv/lib/python3.12/site-packages/datasets/formatting/torch_formatter.py:98\u001B[0m, in \u001B[0;36mTorchFormatter._recursive_tensorize\u001B[0;34m(self, data_struct)\u001B[0m\n\u001B[1;32m     96\u001B[0m \u001B[38;5;28;01mif\u001B[39;00m \u001B[38;5;28misinstance\u001B[39m(data_struct, np\u001B[38;5;241m.\u001B[39mndarray):\n\u001B[1;32m     97\u001B[0m     \u001B[38;5;28;01mif\u001B[39;00m data_struct\u001B[38;5;241m.\u001B[39mdtype \u001B[38;5;241m==\u001B[39m \u001B[38;5;28mobject\u001B[39m:  \u001B[38;5;66;03m# torch tensors cannot be instantied from an array of objects\u001B[39;00m\n\u001B[0;32m---> 98\u001B[0m         \u001B[38;5;28;01mreturn\u001B[39;00m \u001B[38;5;28mself\u001B[39m\u001B[38;5;241m.\u001B[39m_consolidate([\u001B[38;5;28;43mself\u001B[39;49m\u001B[38;5;241;43m.\u001B[39;49m\u001B[43mrecursive_tensorize\u001B[49m\u001B[43m(\u001B[49m\u001B[43msubstruct\u001B[49m\u001B[43m)\u001B[49m \u001B[38;5;28;01mfor\u001B[39;00m substruct \u001B[38;5;129;01min\u001B[39;00m data_struct])\n\u001B[1;32m     99\u001B[0m \u001B[38;5;28;01melif\u001B[39;00m \u001B[38;5;28misinstance\u001B[39m(data_struct, (\u001B[38;5;28mlist\u001B[39m, \u001B[38;5;28mtuple\u001B[39m)):\n\u001B[1;32m    100\u001B[0m     \u001B[38;5;28;01mreturn\u001B[39;00m \u001B[38;5;28mself\u001B[39m\u001B[38;5;241m.\u001B[39m_consolidate([\u001B[38;5;28mself\u001B[39m\u001B[38;5;241m.\u001B[39mrecursive_tensorize(substruct) \u001B[38;5;28;01mfor\u001B[39;00m substruct \u001B[38;5;129;01min\u001B[39;00m data_struct])\n",
      "File \u001B[0;32m~/Repo/tabletenis-player-classify-wave/.venv/lib/python3.12/site-packages/datasets/formatting/torch_formatter.py:104\u001B[0m, in \u001B[0;36mTorchFormatter.recursive_tensorize\u001B[0;34m(self, data_struct)\u001B[0m\n\u001B[1;32m    103\u001B[0m \u001B[38;5;28;01mdef\u001B[39;00m \u001B[38;5;21mrecursive_tensorize\u001B[39m(\u001B[38;5;28mself\u001B[39m, data_struct: \u001B[38;5;28mdict\u001B[39m):\n\u001B[0;32m--> 104\u001B[0m     \u001B[38;5;28;01mreturn\u001B[39;00m \u001B[43mmap_nested\u001B[49m\u001B[43m(\u001B[49m\u001B[38;5;28;43mself\u001B[39;49m\u001B[38;5;241;43m.\u001B[39;49m\u001B[43m_recursive_tensorize\u001B[49m\u001B[43m,\u001B[49m\u001B[43m \u001B[49m\u001B[43mdata_struct\u001B[49m\u001B[43m,\u001B[49m\u001B[43m \u001B[49m\u001B[43mmap_list\u001B[49m\u001B[38;5;241;43m=\u001B[39;49m\u001B[38;5;28;43;01mFalse\u001B[39;49;00m\u001B[43m)\u001B[49m\n",
      "File \u001B[0;32m~/Repo/tabletenis-player-classify-wave/.venv/lib/python3.12/site-packages/datasets/utils/py_utils.py:484\u001B[0m, in \u001B[0;36mmap_nested\u001B[0;34m(function, data_struct, dict_only, map_list, map_tuple, map_numpy, num_proc, parallel_min_length, batched, batch_size, types, disable_tqdm, desc)\u001B[0m\n\u001B[1;32m    482\u001B[0m \u001B[38;5;28;01mif\u001B[39;00m batched:\n\u001B[1;32m    483\u001B[0m     data_struct \u001B[38;5;241m=\u001B[39m [data_struct]\n\u001B[0;32m--> 484\u001B[0m mapped \u001B[38;5;241m=\u001B[39m \u001B[43mfunction\u001B[49m\u001B[43m(\u001B[49m\u001B[43mdata_struct\u001B[49m\u001B[43m)\u001B[49m\n\u001B[1;32m    485\u001B[0m \u001B[38;5;28;01mif\u001B[39;00m batched:\n\u001B[1;32m    486\u001B[0m     mapped \u001B[38;5;241m=\u001B[39m mapped[\u001B[38;5;241m0\u001B[39m]\n",
      "File \u001B[0;32m~/Repo/tabletenis-player-classify-wave/.venv/lib/python3.12/site-packages/datasets/formatting/torch_formatter.py:98\u001B[0m, in \u001B[0;36mTorchFormatter._recursive_tensorize\u001B[0;34m(self, data_struct)\u001B[0m\n\u001B[1;32m     96\u001B[0m \u001B[38;5;28;01mif\u001B[39;00m \u001B[38;5;28misinstance\u001B[39m(data_struct, np\u001B[38;5;241m.\u001B[39mndarray):\n\u001B[1;32m     97\u001B[0m     \u001B[38;5;28;01mif\u001B[39;00m data_struct\u001B[38;5;241m.\u001B[39mdtype \u001B[38;5;241m==\u001B[39m \u001B[38;5;28mobject\u001B[39m:  \u001B[38;5;66;03m# torch tensors cannot be instantied from an array of objects\u001B[39;00m\n\u001B[0;32m---> 98\u001B[0m         \u001B[38;5;28;01mreturn\u001B[39;00m \u001B[38;5;28mself\u001B[39m\u001B[38;5;241m.\u001B[39m_consolidate([\u001B[38;5;28;43mself\u001B[39;49m\u001B[38;5;241;43m.\u001B[39;49m\u001B[43mrecursive_tensorize\u001B[49m\u001B[43m(\u001B[49m\u001B[43msubstruct\u001B[49m\u001B[43m)\u001B[49m \u001B[38;5;28;01mfor\u001B[39;00m substruct \u001B[38;5;129;01min\u001B[39;00m data_struct])\n\u001B[1;32m     99\u001B[0m \u001B[38;5;28;01melif\u001B[39;00m \u001B[38;5;28misinstance\u001B[39m(data_struct, (\u001B[38;5;28mlist\u001B[39m, \u001B[38;5;28mtuple\u001B[39m)):\n\u001B[1;32m    100\u001B[0m     \u001B[38;5;28;01mreturn\u001B[39;00m \u001B[38;5;28mself\u001B[39m\u001B[38;5;241m.\u001B[39m_consolidate([\u001B[38;5;28mself\u001B[39m\u001B[38;5;241m.\u001B[39mrecursive_tensorize(substruct) \u001B[38;5;28;01mfor\u001B[39;00m substruct \u001B[38;5;129;01min\u001B[39;00m data_struct])\n",
      "File \u001B[0;32m~/Repo/tabletenis-player-classify-wave/.venv/lib/python3.12/site-packages/datasets/formatting/torch_formatter.py:104\u001B[0m, in \u001B[0;36mTorchFormatter.recursive_tensorize\u001B[0;34m(self, data_struct)\u001B[0m\n\u001B[1;32m    103\u001B[0m \u001B[38;5;28;01mdef\u001B[39;00m \u001B[38;5;21mrecursive_tensorize\u001B[39m(\u001B[38;5;28mself\u001B[39m, data_struct: \u001B[38;5;28mdict\u001B[39m):\n\u001B[0;32m--> 104\u001B[0m     \u001B[38;5;28;01mreturn\u001B[39;00m \u001B[43mmap_nested\u001B[49m\u001B[43m(\u001B[49m\u001B[38;5;28;43mself\u001B[39;49m\u001B[38;5;241;43m.\u001B[39;49m\u001B[43m_recursive_tensorize\u001B[49m\u001B[43m,\u001B[49m\u001B[43m \u001B[49m\u001B[43mdata_struct\u001B[49m\u001B[43m,\u001B[49m\u001B[43m \u001B[49m\u001B[43mmap_list\u001B[49m\u001B[38;5;241;43m=\u001B[39;49m\u001B[38;5;28;43;01mFalse\u001B[39;49;00m\u001B[43m)\u001B[49m\n",
      "File \u001B[0;32m~/Repo/tabletenis-player-classify-wave/.venv/lib/python3.12/site-packages/datasets/utils/py_utils.py:484\u001B[0m, in \u001B[0;36mmap_nested\u001B[0;34m(function, data_struct, dict_only, map_list, map_tuple, map_numpy, num_proc, parallel_min_length, batched, batch_size, types, disable_tqdm, desc)\u001B[0m\n\u001B[1;32m    482\u001B[0m \u001B[38;5;28;01mif\u001B[39;00m batched:\n\u001B[1;32m    483\u001B[0m     data_struct \u001B[38;5;241m=\u001B[39m [data_struct]\n\u001B[0;32m--> 484\u001B[0m mapped \u001B[38;5;241m=\u001B[39m \u001B[43mfunction\u001B[49m\u001B[43m(\u001B[49m\u001B[43mdata_struct\u001B[49m\u001B[43m)\u001B[49m\n\u001B[1;32m    485\u001B[0m \u001B[38;5;28;01mif\u001B[39;00m batched:\n\u001B[1;32m    486\u001B[0m     mapped \u001B[38;5;241m=\u001B[39m mapped[\u001B[38;5;241m0\u001B[39m]\n",
      "File \u001B[0;32m~/Repo/tabletenis-player-classify-wave/.venv/lib/python3.12/site-packages/datasets/formatting/torch_formatter.py:101\u001B[0m, in \u001B[0;36mTorchFormatter._recursive_tensorize\u001B[0;34m(self, data_struct)\u001B[0m\n\u001B[1;32m     99\u001B[0m \u001B[38;5;28;01melif\u001B[39;00m \u001B[38;5;28misinstance\u001B[39m(data_struct, (\u001B[38;5;28mlist\u001B[39m, \u001B[38;5;28mtuple\u001B[39m)):\n\u001B[1;32m    100\u001B[0m     \u001B[38;5;28;01mreturn\u001B[39;00m \u001B[38;5;28mself\u001B[39m\u001B[38;5;241m.\u001B[39m_consolidate([\u001B[38;5;28mself\u001B[39m\u001B[38;5;241m.\u001B[39mrecursive_tensorize(substruct) \u001B[38;5;28;01mfor\u001B[39;00m substruct \u001B[38;5;129;01min\u001B[39;00m data_struct])\n\u001B[0;32m--> 101\u001B[0m \u001B[38;5;28;01mreturn\u001B[39;00m \u001B[38;5;28;43mself\u001B[39;49m\u001B[38;5;241;43m.\u001B[39;49m\u001B[43m_tensorize\u001B[49m\u001B[43m(\u001B[49m\u001B[43mdata_struct\u001B[49m\u001B[43m)\u001B[49m\n",
      "File \u001B[0;32m~/Repo/tabletenis-player-classify-wave/.venv/lib/python3.12/site-packages/datasets/formatting/torch_formatter.py:87\u001B[0m, in \u001B[0;36mTorchFormatter._tensorize\u001B[0;34m(self, value)\u001B[0m\n\u001B[1;32m     84\u001B[0m         value\u001B[38;5;241m.\u001B[39m_hf_bridge_out \u001B[38;5;241m=\u001B[39m to_torch\n\u001B[1;32m     85\u001B[0m         \u001B[38;5;28;01mreturn\u001B[39;00m value\n\u001B[0;32m---> 87\u001B[0m \u001B[38;5;28;01mreturn\u001B[39;00m \u001B[43mtorch\u001B[49m\u001B[38;5;241;43m.\u001B[39;49m\u001B[43mtensor\u001B[49m\u001B[43m(\u001B[49m\u001B[43mvalue\u001B[49m\u001B[43m,\u001B[49m\u001B[43m \u001B[49m\u001B[38;5;241;43m*\u001B[39;49m\u001B[38;5;241;43m*\u001B[39;49m\u001B[43m{\u001B[49m\u001B[38;5;241;43m*\u001B[39;49m\u001B[38;5;241;43m*\u001B[39;49m\u001B[43mdefault_dtype\u001B[49m\u001B[43m,\u001B[49m\u001B[43m \u001B[49m\u001B[38;5;241;43m*\u001B[39;49m\u001B[38;5;241;43m*\u001B[39;49m\u001B[38;5;28;43mself\u001B[39;49m\u001B[38;5;241;43m.\u001B[39;49m\u001B[43mtorch_tensor_kwargs\u001B[49m\u001B[43m}\u001B[49m\u001B[43m)\u001B[49m\n",
      "\u001B[0;31mKeyboardInterrupt\u001B[0m: "
     ]
    }
   ],
   "execution_count": 76
  },
  {
   "cell_type": "code",
   "execution_count": null,
   "id": "e28b8f8d5f840c50",
   "metadata": {},
   "outputs": [],
   "source": [
    "test_df = polars.read_csv(\n",
    "\t\"../data/test_data.csv\", n_threads=num_workers, low_memory=True, rechunk=True, use_pyarrow=True\n",
    ")\n",
    "test_df = test_df.sort(\"data_id\", \"time_order\").set_sorted(\"time_order\")"
   ]
  },
  {
   "cell_type": "code",
   "execution_count": null,
   "id": "516fc893928d3c69",
   "metadata": {},
   "outputs": [],
   "source": [
    "test_df = test_df.with_columns((polars.col(features) - polars.col(features).mean()) / polars.col(features).std())"
   ]
  },
  {
   "cell_type": "code",
   "execution_count": null,
   "id": "9aa9e8799fd96ea5",
   "metadata": {},
   "outputs": [],
   "source": [
    "test_df = test_df.rolling(\n",
    "\tindex_column=\"time_order\", group_by=\"data_id\", period=f\"{series_length - 1}i\", closed=\"both\"\n",
    ").agg(polars.all())"
   ]
  },
  {
   "cell_type": "code",
   "execution_count": null,
   "id": "a99b0d738a790d05",
   "metadata": {},
   "outputs": [],
   "source": [
    "test_df = (\n",
    "\ttest_df.with_columns(polars.col(features).list.get(0).name.suffix(\"_PAD\"))\n",
    "\t.with_columns(\n",
    "\t\tpolars.concat_list(polars.col(f\"{col}_PAD\").repeat_by(series_length - polars.col(col).list.len()), col).alias(\n",
    "\t\t\tcol\n",
    "\t\t)\n",
    "\t\tfor col in features\n",
    "\t)\n",
    "\t.drop(\"^[AG][xyz]_PAD$\")\n",
    ")"
   ]
  },
  {
   "cell_type": "code",
   "execution_count": null,
   "id": "6533bec1796c4587",
   "metadata": {},
   "outputs": [],
   "source": [
    "test_df = test_df.drop(\"time_order\")"
   ]
  },
  {
   "cell_type": "code",
   "execution_count": null,
   "id": "e0aa19c2301224ad",
   "metadata": {},
   "outputs": [],
   "source": [
    "test_dataset = Dataset(test_df.to_arrow())"
   ]
  },
  {
   "cell_type": "code",
   "execution_count": null,
   "id": "6c8740a6d76e1d62",
   "metadata": {},
   "outputs": [],
   "source": [
    "test_dataset"
   ]
  },
  {
   "cell_type": "code",
   "execution_count": null,
   "id": "f4acbf379d34557a",
   "metadata": {},
   "outputs": [],
   "source": [
    "test_dataset = test_dataset.map(\n",
    "\tlambda sample: {\"data\": torch.stack(tuple(torch.tensor(sample[col]) for col in features), dim=1)},\n",
    "\tremove_columns=features,\n",
    ")"
   ]
  },
  {
   "cell_type": "code",
   "execution_count": null,
   "id": "91d043384728856e",
   "metadata": {},
   "outputs": [],
   "source": [
    "test_dataset = test_dataset.with_format(\"torch\", columns=[\"data\"], output_all_columns=True)"
   ]
  },
  {
   "cell_type": "code",
   "execution_count": null,
   "id": "da47ef2e1793e47e",
   "metadata": {},
   "outputs": [],
   "source": [
    "test_dataset = test_dataset.map(\n",
    "\tlambda sample: {\"output\": model(sample.unsqueeze(0).to(device))}, input_columns=[\"data\"], remove_columns=[\"data\"]\n",
    ")"
   ]
  },
  {
   "cell_type": "code",
   "execution_count": null,
   "id": "dce4414de2bdaa34",
   "metadata": {},
   "outputs": [],
   "source": [
    "test_dataset = test_dataset.map(\n",
    "\tlambda sample: {\n",
    "\t\t\"gender\": sample[0].item(),\n",
    "\t\t\"hold racket handed\": sample[1].item(),\n",
    "\t\t\"play years_0\": int(sample[2].item() == 0),\n",
    "\t\t\"play years_1\": int(sample[2].item() == 1),\n",
    "\t\t\"play years_2\": int(sample[2].item() == 2),\n",
    "\t\t\"level_0\": int(sample[3].item() == 0),\n",
    "\t\t\"level_1\": int(sample[3].item() == 1),\n",
    "\t\t\"level_2\": int(sample[3].item() == 2),\n",
    "\t},\n",
    "\tinput_columns=[\"output\"],\n",
    "\tremove_columns=[\"output\"],\n",
    ")"
   ]
  },
  {
   "cell_type": "code",
   "execution_count": null,
   "id": "f69b823ecea7bd08",
   "metadata": {},
   "outputs": [],
   "source": [
    "test_dataset"
   ]
  },
  {
   "cell_type": "code",
   "execution_count": null,
   "id": "28e04ae0d111b79e",
   "metadata": {},
   "outputs": [],
   "source": [
    "test_dataset.to_csv(\"../data/result.csv\", num_proc=num_workers)"
   ]
  },
  {
   "cell_type": "code",
   "execution_count": null,
   "id": "44822cd440c04a27",
   "metadata": {},
   "outputs": [],
   "source": []
  }
 ],
 "metadata": {
  "kernelspec": {
   "display_name": "Python 3",
   "language": "python",
   "name": "python3"
  },
  "language_info": {
   "codemirror_mode": {
    "name": "ipython",
    "version": 2
   },
   "file_extension": ".py",
   "mimetype": "text/x-python",
   "name": "python",
   "nbconvert_exporter": "python",
   "pygments_lexer": "ipython2",
   "version": "2.7.6"
  }
 },
 "nbformat": 4,
 "nbformat_minor": 5
}
